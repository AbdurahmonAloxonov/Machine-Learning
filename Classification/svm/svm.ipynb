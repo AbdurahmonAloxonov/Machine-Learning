{
  "nbformat": 4,
  "nbformat_minor": 0,
  "metadata": {
    "colab": {
      "provenance": []
    },
    "kernelspec": {
      "name": "python3",
      "display_name": "Python 3"
    },
    "language_info": {
      "name": "python"
    }
  },
  "cells": [
    {
      "cell_type": "code",
      "execution_count": 18,
      "metadata": {
        "id": "MwR9QVjbxWL-"
      },
      "outputs": [],
      "source": [
        "import numpy as np\n",
        "import pandas as pd\n",
        "from sklearn.model_selection import train_test_split, GridSearchCV\n",
        "from sklearn.preprocessing import StandardScaler\n",
        "from sklearn.svm import SVC\n",
        "from sklearn.metrics import classification_report, confusion_matrix, accuracy_score\n",
        "import seaborn as sns\n",
        "import matplotlib.pyplot as plt\n",
        "\n"
      ]
    },
    {
      "cell_type": "code",
      "source": [
        "np.random.seed(42)\n",
        "n_samples = 500\n"
      ],
      "metadata": {
        "id": "0g4QahNmxfWO"
      },
      "execution_count": 19,
      "outputs": []
    },
    {
      "cell_type": "code",
      "source": [
        "X = np.random.randn(n_samples, 5)\n",
        "\n"
      ],
      "metadata": {
        "id": "Ghtc8YTvxh--"
      },
      "execution_count": 20,
      "outputs": []
    },
    {
      "cell_type": "code",
      "source": [
        "y = (X[:, 0] > 0.5).astype(int)\n",
        "\n"
      ],
      "metadata": {
        "id": "p75HZ4iGxi_3"
      },
      "execution_count": 21,
      "outputs": []
    },
    {
      "cell_type": "code",
      "source": [
        "df = pd.DataFrame(X, columns=[f'feature_{i}' for i in range(1,6)])\n",
        "df['quality'] = y\n"
      ],
      "metadata": {
        "id": "BLOrbu6KxkLW"
      },
      "execution_count": 22,
      "outputs": []
    },
    {
      "cell_type": "code",
      "source": [
        "print(df.head())\n",
        "print(\"\\nClass distribution:\\n\", df['quality'].value_counts())\n",
        "\n"
      ],
      "metadata": {
        "colab": {
          "base_uri": "https://localhost:8080/"
        },
        "id": "q8JrV7FxxlWm",
        "outputId": "18c93261-0d0a-46e6-ea48-869e08d3aa50"
      },
      "execution_count": 23,
      "outputs": [
        {
          "output_type": "stream",
          "name": "stdout",
          "text": [
            "   feature_1  feature_2  feature_3  feature_4  feature_5  quality\n",
            "0   0.496714  -0.138264   0.647689   1.523030  -0.234153        0\n",
            "1  -0.234137   1.579213   0.767435  -0.469474   0.542560        0\n",
            "2  -0.463418  -0.465730   0.241962  -1.913280  -1.724918        0\n",
            "3  -0.562288  -1.012831   0.314247  -0.908024  -1.412304        0\n",
            "4   1.465649  -0.225776   0.067528  -1.424748  -0.544383        1\n",
            "\n",
            "Class distribution:\n",
            " quality\n",
            "0    346\n",
            "1    154\n",
            "Name: count, dtype: int64\n"
          ]
        }
      ]
    },
    {
      "cell_type": "code",
      "source": [
        "X_train, X_test, y_train, y_test = train_test_split(\n",
        "    X, y, test_size=0.2, random_state=42, stratify=y)\n",
        "\n"
      ],
      "metadata": {
        "id": "k-2dzeD9xmdi"
      },
      "execution_count": 24,
      "outputs": []
    },
    {
      "cell_type": "code",
      "source": [
        "scaler = StandardScaler()\n",
        "X_train_scaled = scaler.fit_transform(X_train)\n",
        "X_test_scaled = scaler.transform(X_test)\n"
      ],
      "metadata": {
        "id": "efRA09rMxnwJ"
      },
      "execution_count": 25,
      "outputs": []
    },
    {
      "cell_type": "code",
      "source": [
        "svc = SVC()\n",
        "param_grid = {\n",
        "    'C': [0.1, 1, 10],\n",
        "    'kernel': ['linear', 'rbf'],\n",
        "    'gamma': ['scale', 'auto']\n",
        "}\n"
      ],
      "metadata": {
        "id": "GDt0rdkRxpLV"
      },
      "execution_count": 26,
      "outputs": []
    },
    {
      "cell_type": "code",
      "source": [
        "grid = GridSearchCV(svc, param_grid, cv=5, scoring='accuracy', n_jobs=-1)\n",
        "grid.fit(X_train_scaled, y_train)\n",
        "print(\"Best parameters found:\", grid.best_params_)\n",
        "\n",
        "best_svm = grid.best_estimator_\n"
      ],
      "metadata": {
        "colab": {
          "base_uri": "https://localhost:8080/"
        },
        "id": "mOnDKdZ5x82C",
        "outputId": "a85d2881-eacf-4fb4-8424-ef4965f606b4"
      },
      "execution_count": 27,
      "outputs": [
        {
          "output_type": "stream",
          "name": "stdout",
          "text": [
            "Best parameters found: {'C': 10, 'gamma': 'scale', 'kernel': 'linear'}\n"
          ]
        }
      ]
    },
    {
      "cell_type": "code",
      "source": [
        "y_pred = best_svm.predict(X_test_scaled)"
      ],
      "metadata": {
        "id": "lePLwIfhx-MD"
      },
      "execution_count": 28,
      "outputs": []
    },
    {
      "cell_type": "code",
      "source": [
        "print(\"\\nAccuracy:\", accuracy_score(y_test, y_pred))\n",
        "print(\"\\nConfusion Matrix:\\n\", confusion_matrix(y_test, y_pred))\n",
        "print(\"\\nClassification Report:\\n\", classification_report(y_test, y_pred))\n",
        "\n"
      ],
      "metadata": {
        "colab": {
          "base_uri": "https://localhost:8080/"
        },
        "id": "lHob_uaPyBfd",
        "outputId": "740115ed-2511-4104-cb10-4ab243313a30"
      },
      "execution_count": 29,
      "outputs": [
        {
          "output_type": "stream",
          "name": "stdout",
          "text": [
            "\n",
            "Accuracy: 0.96\n",
            "\n",
            "Confusion Matrix:\n",
            " [[68  1]\n",
            " [ 3 28]]\n",
            "\n",
            "Classification Report:\n",
            "               precision    recall  f1-score   support\n",
            "\n",
            "           0       0.96      0.99      0.97        69\n",
            "           1       0.97      0.90      0.93        31\n",
            "\n",
            "    accuracy                           0.96       100\n",
            "   macro avg       0.96      0.94      0.95       100\n",
            "weighted avg       0.96      0.96      0.96       100\n",
            "\n"
          ]
        }
      ]
    },
    {
      "cell_type": "code",
      "source": [
        "cm = confusion_matrix(y_test, y_pred)\n",
        "plt.figure(figsize=(6,4))\n",
        "sns.heatmap(cm, annot=True, fmt='d', cmap='coolwarm',\n",
        "            xticklabels=['Sifatsiz', 'Yaxshi'],\n",
        "            yticklabels=['Sifatsiz', 'Yaxshi'])\n",
        "plt.xlabel('Bashorat qilingan')\n",
        "plt.ylabel('Haqiqiy')\n",
        "plt.title('SVM Confusion Matrix - Signal Sifati')\n",
        "plt.tight_layout()\n",
        "plt.show()"
      ],
      "metadata": {
        "colab": {
          "base_uri": "https://localhost:8080/",
          "height": 407
        },
        "id": "yi84_4uKyC0R",
        "outputId": "b28d47f7-7e2f-47d4-f61d-c3421b31ab0a"
      },
      "execution_count": 30,
      "outputs": [
        {
          "output_type": "display_data",
          "data": {
            "text/plain": [
              "<Figure size 600x400 with 2 Axes>"
            ],
            "image/png": "[encoded data removed]"
          },
          "metadata": {}
        }
      ]
    },
    {
      "cell_type": "code",
      "source": [],
      "metadata": {
        "id": "u4K0MHjUyTKQ"
      },
      "execution_count": null,
      "outputs": []
    }
  ]
}